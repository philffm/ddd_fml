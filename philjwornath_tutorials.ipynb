{
 "cells": [
  {
   "cell_type": "markdown",
   "metadata": {},
   "source": [
    "# Getting VS Code / Jupyter Notebook Scrachpad to work\n",
    "## Why?\n",
    "Sometimes you want to test small code snippets to see what it does, without writing in the main code. \n",
    "\n",
    "## The process\n",
    "\n",
    "1) Command + Shift + P\n",
    "2) Jupyter: Create Interactive Window\n",
    "3) Copy URL of Remote Jupyter Session\n",
    "4) again: Command + Shift + P -> Jupyter: Specify local or remote Jupyter server for connections\n",
    "5) Paste URL of Remote Jupyter Session\n",
    "6) In the interactive window select the current session (remote)\n",
    "7) That's it! The active variables from the Jupyter Notebook should now available in the interactive console\n",
    "\n"
   ]
  },
  {
   "cell_type": "code",
   "execution_count": null,
   "metadata": {},
   "outputs": [],
   "source": []
  }
 ],
 "metadata": {
  "language_info": {
   "name": "python"
  },
  "orig_nbformat": 4
 },
 "nbformat": 4,
 "nbformat_minor": 2
}
