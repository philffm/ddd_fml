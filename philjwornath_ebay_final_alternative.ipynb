{
 "cells": [
  {
   "cell_type": "code",
   "execution_count": 6,
   "metadata": {},
   "outputs": [],
   "source": [
    "\n",
    "from bs4 import BeautifulSoup\n",
    "import requests\n",
    "import time\n",
    "import datetime\n",
    "import json\n",
    "from collections import OrderedDict\n",
    "import random\n",
    "import glob\n",
    "\n",
    "\n",
    "\n",
    "import undetected_chromedriver.v2 as uc\n",
    "import os\n",
    "from PIL import Image\n",
    "img_path = '/assets/img/'\n",
    "basedir = os.getcwd()\n",
    "\n",
    "options = uc.ChromeOptions()\n",
    "\n",
    "# Brave\n",
    "# browser_path = '/Applications/Brave Browser.app/Contents/MacOS/Brave Browser'\n",
    "\n",
    "# Chrome\n",
    "browser_path = '/Applications/Google Chrome.app/Contents/MacOS/Google Chrome'\n",
    "\n",
    "\n",
    "options.binary_location = browser_path\n",
    "# options.add_argument(\"--incognito\")\n",
    "# options.add_argument(\"--no-default-browser-check\")\n",
    "options.add_argument(\"--no-first-run\")\n",
    "driver = uc.Chrome(options=options)\n",
    "\n",
    "# elements_to_remove = ['sidebar']\n",
    "def get_listings(main_kw,cpu,ram):\n",
    "    url  = \"https://www.ebay-kleinanzeigen.de/s-anzeige:angebote/%s-%s-%s/k0\" % (main_kw,cpu,ram)\n",
    "    # url  = \"https://www.strava.com/heatmap#8.44/%s/%s/hot/ride\" % (lat, lon)\n",
    "    driver.get(url)   # known url using cloudflare's \"under attack mode\"\n",
    "    # driver.find_element_by_css_selector('#gdpr-banner-accept').click()\n",
    "    return driver.page_source\n",
    "\n",
    "listings = get_listings('macbook-air','m1','8gb')\n",
    "\n",
    "\n",
    "\n",
    "# driver.execute_script(\"\"\"\n",
    "# var l = document.getElementById('global-header');\n",
    "# l.parentNode.removeChild(l);\n",
    "# \"\"\")    \n"
   ]
  },
  {
   "cell_type": "code",
   "execution_count": 7,
   "metadata": {},
   "outputs": [],
   "source": [
    "import pandas as pd\n",
    "import datetime\n",
    "\n",
    "\n",
    "listing_soup = BeautifulSoup(listings)\n",
    "articles_db = []\n",
    "articles = listing_soup.find_all('article', class_='aditem')\n",
    "for article in articles:\n",
    "    a_name = article.find_all('a', class_='ellipsis')[0].text\n",
    "    a_url = article.find_all('a', class_='ellipsis')[0]['href']\n",
    "    a_date = article.find_all('div', class_='aditem-main--top--right')[0].text\n",
    "    a_loc = article.find_all('div', class_='aditem-main--top--left')[0].text\n",
    "    a_price = article.find_all('p', class_='aditem-main--middle--price')[0].text\n",
    "    a_desc = article.find_all('p', class_='aditem-main--middle--description')[0]\n",
    "    articles_db.append({'Name': a_name,'URL': a_url,'Date': a_date,'Location': a_loc,'Price': a_price,'Desc': a_desc}) \n",
    "\n",
    "df = pd.DataFrame(articles_db)\n",
    "\n",
    "# get current time for file name\n",
    "timestamp = datetime.datetime.now().strftime(\"%y-%m-%d-%a\")\n",
    "df.to_csv('ebay_listings_'+timestamp+'.csv',index=False)\n"
   ]
  },
  {
   "cell_type": "markdown",
   "metadata": {},
   "source": []
  },
  {
   "cell_type": "markdown",
   "metadata": {},
   "source": [
    "Import CSVs"
   ]
  },
  {
   "cell_type": "code",
   "execution_count": null,
   "metadata": {},
   "outputs": [],
   "source": []
  },
  {
   "cell_type": "markdown",
   "metadata": {},
   "source": []
  },
  {
   "cell_type": "code",
   "execution_count": 8,
   "metadata": {},
   "outputs": [],
   "source": [
    "banana = 'apple'"
   ]
  },
  {
   "cell_type": "code",
   "execution_count": null,
   "metadata": {},
   "outputs": [],
   "source": []
  },
  {
   "cell_type": "code",
   "execution_count": 9,
   "metadata": {},
   "outputs": [],
   "source": [
    "\n",
    "from datetime import datetime\n",
    "import matplotlib.pyplot as plt\n",
    "import seaborn as sns\n",
    "\n",
    "df =  [1,2,3]"
   ]
  }
 ],
 "metadata": {
  "interpreter": {
   "hash": "c6e4e9f98eb68ad3b7c296f83d20e6de614cb42e90992a65aa266555a3137d0d"
  },
  "kernelspec": {
   "display_name": "Python 3.9.7 64-bit ('base': conda)",
   "language": "python",
   "name": "python3"
  },
  "language_info": {
   "codemirror_mode": {
    "name": "ipython",
    "version": 3
   },
   "file_extension": ".py",
   "mimetype": "text/x-python",
   "name": "python",
   "nbconvert_exporter": "python",
   "pygments_lexer": "ipython3",
   "version": "3.9.7"
  },
  "orig_nbformat": 4
 },
 "nbformat": 4,
 "nbformat_minor": 2
}
